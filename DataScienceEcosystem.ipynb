{
 "cells": [
  {
   "cell_type": "markdown",
   "id": "fd42b563-ffbb-4d45-9919-13e82657a52b",
   "metadata": {},
   "source": [
    "# Data Science Tools and Ecosystem"
   ]
  },
  {
   "cell_type": "markdown",
   "id": "68a503f8-7854-4db5-90f4-66740f3f4e3f",
   "metadata": {},
   "source": [
    "In this notebook, Data Science Tools and Ecosystem are summarized.\n"
   ]
  },
  {
   "cell_type": "markdown",
   "id": "87669b36-aa83-4819-b7ac-1bed399f028f",
   "metadata": {
    "tags": []
   },
   "source": [
    "**Objectives:**\n",
    "- List popular languages for Data Science\n",
    "- List some commonly used libraries in Data Science\n",
    "- List some Data science tools \n",
    "- few examples of arithmetic expressions "
   ]
  },
  {
   "cell_type": "markdown",
   "id": "da938627-0c07-4fbf-90c8-447bd64139d0",
   "metadata": {},
   "source": [
    "Some of the popular languages that Data Scientists use are:\n",
    "1. Python\n",
    "2. R\n",
    "3. SQL"
   ]
  },
  {
   "cell_type": "markdown",
   "id": "8cc94244-e480-4889-95f4-5ef238dd9401",
   "metadata": {
    "tags": []
   },
   "source": [
    "Some of the commonly used libraries used by Data Scientists include:\n",
    "1. Pandas\n",
    "2. Numpy\n",
    "3. Scikit-learn\n"
   ]
  },
  {
   "cell_type": "markdown",
   "id": "05075387-8833-4a98-933a-13eeaafc9ea4",
   "metadata": {},
   "source": [
    "Data Science Tools |\n",
    "---|\n",
    "MySQL | \n",
    "Mango DB |\n",
    "Hadoop"
   ]
  },
  {
   "cell_type": "markdown",
   "id": "08297b24-a616-405a-aedc-0dc878d90424",
   "metadata": {},
   "source": [
    "### Below are a few examples of evaluating arithmetic expressions in Python.\n"
   ]
  },
  {
   "cell_type": "code",
   "execution_count": 5,
   "id": "12455414-8847-4ce0-b3ed-d500268e548a",
   "metadata": {
    "tags": []
   },
   "outputs": [
    {
     "data": {
      "text/plain": [
       "17"
      ]
     },
     "execution_count": 5,
     "metadata": {},
     "output_type": "execute_result"
    }
   ],
   "source": [
    "# This a simple arithmetic expression to mutiply then add integers\n",
    "(3*4)+5"
   ]
  },
  {
   "cell_type": "code",
   "execution_count": 7,
   "id": "699a3ce1-1e4a-411e-803b-4b6195321c50",
   "metadata": {
    "tags": []
   },
   "outputs": [
    {
     "data": {
      "text/plain": [
       "3.3333333333333335"
      ]
     },
     "execution_count": 7,
     "metadata": {},
     "output_type": "execute_result"
    }
   ],
   "source": [
    "# This will convert 200 minutes to hours by diving by 60\n",
    "200/60"
   ]
  },
  {
   "cell_type": "markdown",
   "id": "dd6000d6-087d-4cde-a128-aaf904f949c7",
   "metadata": {},
   "source": [
    "## Author\n",
    "Michelle Almakari "
   ]
  },
  {
   "cell_type": "code",
   "execution_count": null,
   "id": "f3324228-0fa8-4736-a239-faa3eb161210",
   "metadata": {},
   "outputs": [],
   "source": []
  }
 ],
 "metadata": {
  "kernelspec": {
   "display_name": "Python",
   "language": "python",
   "name": "conda-env-python-py"
  },
  "language_info": {
   "codemirror_mode": {
    "name": "ipython",
    "version": 3
   },
   "file_extension": ".py",
   "mimetype": "text/x-python",
   "name": "python",
   "nbconvert_exporter": "python",
   "pygments_lexer": "ipython3",
   "version": "3.7.12"
  }
 },
 "nbformat": 4,
 "nbformat_minor": 5
}
